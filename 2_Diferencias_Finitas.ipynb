{
  "nbformat": 4,
  "nbformat_minor": 0,
  "metadata": {
    "colab": {
      "name": "2-Diferencias Finitas.ipynb",
      "provenance": [],
      "collapsed_sections": [],
      "toc_visible": true,
      "authorship_tag": "ABX9TyNEqAalukqQlacTDw/bLKuZ",
      "include_colab_link": true
    },
    "kernelspec": {
      "name": "python3",
      "display_name": "Python 3"
    }
  },
  "cells": [
    {
      "cell_type": "markdown",
      "metadata": {
        "id": "view-in-github",
        "colab_type": "text"
      },
      "source": [
        "<a href=\"https://colab.research.google.com/github/andres-gv/prueba_2020_07_15/blob/master/2_Diferencias_Finitas.ipynb\" target=\"_parent\"><img src=\"https://colab.research.google.com/assets/colab-badge.svg\" alt=\"Open In Colab\"/></a>"
      ]
    },
    {
      "cell_type": "markdown",
      "metadata": {
        "id": "J-eedcKXCAGn",
        "colab_type": "text"
      },
      "source": [
        "https://youtu.be/vUwzhoJ8HjA\n",
        "## Diferencias Finitas\n",
        "\n",
        "- Las derivadas contínuas se transforman en derivadas discretas a través de expasión de las derivadas en series de Taylor. \n",
        "\n",
        "- Dependiendo de la precisión de la aproximación se eligen una cantidad finita de términos de la serie para cada derivada.\n",
        "\n",
        "- Se reemplazan estas aproximaciones en la ecuación a resolver y en la malla de puntos definida.\n",
        "\n",
        "http://web.media.mit.edu/~crtaylor/calculator.html"
      ]
    },
    {
      "cell_type": "markdown",
      "metadata": {
        "id": "mqAG3dq_BE7e",
        "colab_type": "text"
      },
      "source": [
        "## Conducción Térmica\n",
        "Una placa con un perfil de temperaturas dado en un lado y flujo de calor nulo en los demás bordes\n",
        "\n",
        "$(\\frac{\\partial^2}{\\partial x^2} + \\frac{\\partial^2}{\\partial y^2}) u(x,y) = f(x,y)$\n",
        "\n",
        "Dirichlet bc:\n",
        "\n",
        "u(x,0) = 300\n",
        "u(1,y) = 300-200y\n",
        "\n",
        "Neumann bc:\n",
        "\n",
        "$\\frac{\\partial u}{\\partial x} = 0$ for $x = 0$\n",
        "\n",
        "$\\frac{\\partial u}{\\partial y} = 0$ for $y = 0$"
      ]
    },
    {
      "cell_type": "code",
      "metadata": {
        "id": "owqavsVlBh2Q",
        "colab_type": "code",
        "colab": {}
      },
      "source": [
        "!pip install findiff"
      ],
      "execution_count": null,
      "outputs": []
    },
    {
      "cell_type": "code",
      "metadata": {
        "id": "bgTOOXOcBFhC",
        "colab_type": "code",
        "colab": {}
      },
      "source": [
        "from findiff import FinDiff, PDE, BoundaryConditions, Coef, Identity #,Id\n",
        "import numpy\n",
        "from numpy import meshgrid, sin\n",
        "\n",
        "import numpy as np\n",
        "import scipy.sparse as sparse\n",
        "from scipy.sparse.linalg import spsolve\n",
        "\n",
        "shape = (100, 100)\n",
        "x, y = np.linspace(0, 1, shape[0]), np.linspace(0, 1, shape[1])\n",
        "dx, dy = x[1]-x[0], y[1]-y[0]\n",
        "X, Y = np.meshgrid(x, y, indexing='ij')\n",
        "\n",
        "L = FinDiff(0, dx, 2) + FinDiff(1, dy, 2)\n",
        "f = np.zeros(shape)\n",
        "\n"
      ],
      "execution_count": 6,
      "outputs": []
    },
    {
      "cell_type": "code",
      "metadata": {
        "id": "WekQLeuuBu16",
        "colab_type": "code",
        "colab": {}
      },
      "source": [
        "bc = BoundaryConditions(shape)\n",
        "bc[1,:] = FinDiff(0, dx, 1), 0  # Neumann BC\n",
        "bc[-1,:] = 300. - 200*Y   # Dirichlet BC\n",
        "bc[:, 0] = 300.   # Dirichlet BC\n",
        "bc[1:-1, -1] = FinDiff(1, dy, 1), 0  # Neumann BC"
      ],
      "execution_count": 7,
      "outputs": []
    },
    {
      "cell_type": "code",
      "metadata": {
        "id": "TvjMMn67BfDH",
        "colab_type": "code",
        "colab": {}
      },
      "source": [
        "pde = PDE(L, f, bc)\n",
        "u = pde.solve()"
      ],
      "execution_count": 8,
      "outputs": []
    },
    {
      "cell_type": "code",
      "metadata": {
        "id": "566Ki1NVB1mc",
        "colab_type": "code",
        "colab": {
          "base_uri": "https://localhost:8080/",
          "height": 534
        },
        "outputId": "5d2918fd-6d6c-4676-bf13-b096c6e50e53"
      },
      "source": [
        "%matplotlib inline\n",
        "import matplotlib.pyplot as plt\n",
        "plt.style.use('seaborn-white')\n",
        "import numpy as np\n",
        "\n",
        "fig, ax = plt.subplots(figsize=(9,9))\n",
        "ccx = ax.contourf(u, 20, cmap='viridis')\n",
        "fig.colorbar(ccx) # Add a colorbar to a plot\n",
        "plt.show()"
      ],
      "execution_count": 11,
      "outputs": [
        {
          "output_type": "display_data",
          "data": {
            "image/png": "[encoded data removed]",
            "text/plain": [
              "<Figure size 648x648 with 2 Axes>"
            ]
          },
          "metadata": {
            "tags": []
          }
        }
      ]
    }
  ]
}