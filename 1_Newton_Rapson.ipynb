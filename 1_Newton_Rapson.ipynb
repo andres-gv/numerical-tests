{
  "nbformat": 4,
  "nbformat_minor": 0,
  "metadata": {
    "colab": {
      "name": "1-Newton-Rapson.ipynb",
      "provenance": [],
      "collapsed_sections": [],
      "toc_visible": true,
      "authorship_tag": "ABX9TyOUMtWAH2ywC1wByzQ5utOb",
      "include_colab_link": true
    },
    "kernelspec": {
      "name": "python3",
      "display_name": "Python 3"
    }
  },
  "cells": [
    {
      "cell_type": "markdown",
      "metadata": {
        "id": "view-in-github",
        "colab_type": "text"
      },
      "source": [
        "<a href=\"https://colab.research.google.com/github/andres-gv/prueba_2020_07_15/blob/master/1_Newton_Rapson.ipynb\" target=\"_parent\"><img src=\"https://colab.research.google.com/assets/colab-badge.svg\" alt=\"Open In Colab\"/></a>"
      ]
    },
    {
      "cell_type": "markdown",
      "metadata": {
        "id": "bkKDkjw6QxGX",
        "colab_type": "text"
      },
      "source": [
        "https://youtu.be/RYZCG8woW3g\n",
        "# Método de Newton Rapson\n",
        "## Ventajas\n",
        " - convergencia rápida\n",
        " - Implementación fácil.\n",
        " - Es un método robusto y aplicable a ecuaciones no lineales.\n",
        "\n",
        "## Desventajas\n",
        "  - No siempre converge, la convergencia\n",
        "  depende en gran medida de la semilla inicial.\n",
        "  - Como en el método se debe calcular la derivada, las funciones con derivadas discontinuas no se pueden abordar directamente con este método.\n"
      ]
    },
    {
      "cell_type": "code",
      "metadata": {
        "id": "TQynbdApQXWZ",
        "colab_type": "code",
        "colab": {}
      },
      "source": [
        "def newton(f,Df,x0,epsilon,max_iter):\n",
        "    '''Método de Newton Rapson \n",
        "    --> Parametros    \n",
        "    f  : funcion        \n",
        "    Df : derivada de f       \n",
        "    x0 : valor inicial en f(x)=0.\n",
        "    epsilon : criterio de convergencia: abs(f(x)) < epsilon        \n",
        "    max_iter : Núúmero máximo de iteraciones para alcanzar convergencia        \n",
        "    '''\n",
        "    xn = x0\n",
        "    for n in range(0,max_iter):\n",
        "        fxn = f(xn)\n",
        "        if abs(fxn) < epsilon:\n",
        "            print('Solucion encontrada en ',n,'iteraciones.')\n",
        "            return xn\n",
        "        Dfxn = Df(xn)\n",
        "        if Dfxn == 0:\n",
        "            print('df/dx=0. Solucion no encontrada')\n",
        "            return None\n",
        "        xn = xn - fxn/Dfxn\n",
        "    print('Numero máximo de iteraciones alcanzado sin converger.')\n",
        "    return None"
      ],
      "execution_count": null,
      "outputs": []
    },
    {
      "cell_type": "markdown",
      "metadata": {
        "id": "v1gD96ejRWqy",
        "colab_type": "text"
      },
      "source": [
        "$f(x) = (x+2)(x-2)(x-4)$"
      ]
    },
    {
      "cell_type": "code",
      "metadata": {
        "id": "WcDJeolxQ3ni",
        "colab_type": "code",
        "colab": {
          "base_uri": "https://localhost:8080/",
          "height": 52
        },
        "outputId": "b85ab377-d95f-48ff-f8f1-c2620a8f9fc1"
      },
      "source": [
        "p = lambda x: x**3 - 4*x**2 - 4*x + 16\n",
        "Dp = lambda x: 3*x**2 - 8*x\n",
        "approx = newton(p,Dp,2.4,1e-10,100)\n",
        "print(approx)"
      ],
      "execution_count": 17,
      "outputs": [
        {
          "output_type": "stream",
          "text": [
            "Solucion encontrada en  23 iteraciones.\n",
            "4.000000000003075\n"
          ],
          "name": "stdout"
        }
      ]
    }
  ]
}